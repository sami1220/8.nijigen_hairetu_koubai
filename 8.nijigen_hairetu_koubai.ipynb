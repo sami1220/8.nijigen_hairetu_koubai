{
 "cells": [
  {
   "cell_type": "markdown",
   "metadata": {},
   "source": [
    "## 二次元配列と勾配問題\n",
    "\n",
    "機械学習においては関数の最小値を見つけることが重要になってきます。\n",
    "\n",
    "そのために使われるのが勾配降下法です。\n",
    "\n",
    "\n",
    "この課題では勾配降下法を理解する準備として、NumPyを用いて関数の勾配を考えていきます。\n",
    "\n",
    "\n",
    "## 【問題1】1次関数\n",
    "\n",
    "$x$ が-50から50の範囲で次の式を考えます。\n",
    "\n",
    "**y = 1 / 2 * x + 1**\n",
    "\n",
    "-50から50まで0.1間隔のxを表すndarrayと、各要素に対するyを表すndarrayを作成してください。"
   ]
  },
  {
   "cell_type": "code",
   "execution_count": 45,
   "metadata": {},
   "outputs": [
    {
     "name": "stdout",
     "output_type": "stream",
     "text": [
      "[-50.  -49.9 -49.8 ...  49.8  49.9  50. ]\n",
      "[-24.   -23.95 -23.9  ...  25.9   25.95  26.  ]\n"
     ]
    }
   ],
   "source": [
    "import numpy as np\n",
    "\n",
    "x_ndarray = np.arange(-50, 50 + 0.1, 0.1)\n",
    "\n",
    "def calc(x):\n",
    "    y = 1 / 2 * x + 1\n",
    "    return y\n",
    "\n",
    "y_ndarray = np.array(calc(x_ndarray))\n",
    "\n",
    "# 回答\n",
    "print(x_ndarray)\n",
    "print(y_ndarray)\n",
    "# print(len(x_ndarray))\n",
    "# print(len(y_ndarray))"
   ]
  },
  {
   "cell_type": "markdown",
   "metadata": {},
   "source": [
    "## 【問題2】配列の結合\n",
    "\n",
    "問題1で作成したndarrayを結合し、(1001, 2)の形の配列にしてください。\n",
    "\n",
    "0列目にx、1列目にyが来るようにします。"
   ]
  },
  {
   "cell_type": "code",
   "execution_count": 63,
   "metadata": {},
   "outputs": [
    {
     "name": "stdout",
     "output_type": "stream",
     "text": [
      "(1001, 2)\n"
     ]
    }
   ],
   "source": [
    "join_ndarray = np.concatenate([x_ndarray,y_ndarray])\n",
    "\n",
    "# print(join_ndarray)\n",
    "\n",
    "join_ndarray = join_ndarray.reshape(1001, 2)\n",
    "\n",
    "# 回答\n",
    "print(join_ndarray.shape)"
   ]
  },
  {
   "cell_type": "markdown",
   "metadata": {},
   "source": [
    "## 【問題3】勾配を求める\n",
    "\n",
    "各x座標における勾配を求めます。ここで勾配はyの変化量をxの変化量で割ることで計算します。"
   ]
  },
  {
   "cell_type": "code",
   "execution_count": 120,
   "metadata": {},
   "outputs": [
    {
     "name": "stdout",
     "output_type": "stream",
     "text": [
      "yの変化量は0.05000000000000071です\n",
      "xの変化量は0.10000000000000142です\n"
     ]
    }
   ],
   "source": [
    "# yの変化量\n",
    "y_change = y_ndarray[2] - y_ndarray[1]\n",
    "# xの変化量\n",
    "x_change = x_ndarray[2] - x_ndarray[1]\n",
    "\n",
    "# 回答\n",
    "print(\"yの変化量は{}です\".format(y_change))\n",
    "print(\"xの変化量は{}です\".format(x_change))\n",
    "\n",
    "# koubai = np.array([y_change / x_change])"
   ]
  },
  {
   "cell_type": "markdown",
   "metadata": {},
   "source": [
    "## 【問題4】グラフを描く\n",
    "\n",
    "1次関数のグラフをMatplotlibを用いて描いてください。\n",
    "\n",
    "また、それとは別に横軸をx、縦軸を勾配としたグラフも描いてください。\n"
   ]
  },
  {
   "cell_type": "code",
   "execution_count": 132,
   "metadata": {},
   "outputs": [
    {
     "data": {
      "image/png": "[encoded data removed]",
      "text/plain": [
       "<matplotlib.figure.Figure at 0x7f95c2cac828>"
      ]
     },
     "metadata": {},
     "output_type": "display_data"
    },
    {
     "data": {
      "image/png": "[encoded data removed]",
      "text/plain": [
       "<matplotlib.figure.Figure at 0x7f95c2f3c668>"
      ]
     },
     "metadata": {},
     "output_type": "display_data"
    }
   ],
   "source": [
    "import matplotlib.pyplot as plt\n",
    "%matplotlib inline\n",
    "\n",
    "# 回答\n",
    "plt.title(\"1-kansuu\")\n",
    "plt.xlabel(\"shape\")\n",
    "plt.ylabel(\"y_ndarray\")\n",
    "plt.plot(x_ndarray,color='skyblue', linestyle='solid', linewidth=3, markersize=12)\n",
    "plt.show()\n",
    "\n",
    "# 勾配を求める\n",
    "gradient = (y_ndarray[1:] - y_ndarray[:-1]) / (x_ndarray[1:] - x_ndarray[:-1])\n",
    "\n",
    "\n",
    "plt.title(\"koubai\")\n",
    "plt.xlabel(\"shape\")\n",
    "plt.ylabel(\"koubai\")\n",
    "plt.plot(gradient,color='orange', linestyle='solid', linewidth=3, markersize=12)\n",
    "plt.show()\n",
    "\n"
   ]
  },
  {
   "cell_type": "markdown",
   "metadata": {},
   "source": [
    "## 【問題5】Pythonの関数化\n",
    "\n",
    "問題1から問題3までの範囲をまとめて行うPythonの関数を雛形を参考に作成してください。\n",
    "\n",
    "\n",
    "そして、以下の3式の勾配を0.1間隔で求めてndarrayで出力してください。\n",
    "\n",
    "\n",
    "y\n",
    "=\n",
    "x\n",
    "2\n",
    "(\n",
    "−\n",
    "50\n",
    "≤\n",
    "x\n",
    "≤\n",
    "50\n",
    ")\n",
    "\n",
    "\n",
    "y\n",
    "=\n",
    "2\n",
    "x\n",
    "2\n",
    "+\n",
    "2\n",
    "x\n",
    "(\n",
    "−\n",
    "50\n",
    "≤\n",
    "x\n",
    "≤\n",
    "50\n",
    ")\n",
    "\n",
    "\n",
    "y\n",
    "=\n",
    "s\n",
    "i\n",
    "n\n",
    "(\n",
    "x\n",
    "1\n",
    "2\n",
    ")\n",
    "(\n",
    "0\n",
    "≤\n",
    "x\n",
    "≤\n",
    "50\n",
    ")\n",
    "\n",
    "\n",
    "\n",
    "また、問題4と同様にグラフを描いてください。\n",
    "\n",
    "\n",
    "ndarrayに対して三角関数のsinの計算を行うには np.sin()を用います。\n",
    "\n"
   ]
  },
  {
   "cell_type": "code",
   "execution_count": 164,
   "metadata": {},
   "outputs": [
    {
     "name": "stdout",
     "output_type": "stream",
     "text": [
      "[-50.   -49.9  -49.8  ...  25.9   25.95  26.  ]\n"
     ]
    },
    {
     "data": {
      "image/png": "[encoded data removed]",
      "text/plain": [
       "<matplotlib.figure.Figure at 0x7f95c3009438>"
      ]
     },
     "metadata": {},
     "output_type": "display_data"
    },
    {
     "data": {
      "image/png": "[encoded data removed]",
      "text/plain": [
       "<matplotlib.figure.Figure at 0x7f95c31f6d30>"
      ]
     },
     "metadata": {},
     "output_type": "display_data"
    },
    {
     "name": "stdout",
     "output_type": "stream",
     "text": [
      "[0.26237485 0.35739993 0.44885398 ... 0.69416467 0.72927296 0.76255845]\n"
     ]
    }
   ],
   "source": [
    "import matplotlib.pyplot as plt\n",
    "%matplotlib inline\n",
    "\n",
    "def compute_gradient(x_ndarray):\n",
    "    \"\"\"\n",
    "    変化量を使い勾配を計算する。\n",
    "    Parameters\n",
    "    ----------------\n",
    "    x_ndarray\n",
    "      求めたい関数、xのndarrayを入れるとyのndarrayを返すもの。\n",
    "      \n",
    "    Returns\n",
    "    ----------------\n",
    "    join_ndarray : ndarray, shape(n, 2)\n",
    "      xとyを結合したもの。nはx_rangeに依存する。\n",
    "      \n",
    "    gradient : ndarray, shape(n-1,)\n",
    "      関数の勾配。差をとるため要素は1つ減る\n",
    "    \"\"\"\n",
    "    y_ndarray = 1 / 2 * x_ndarray + 1\n",
    "    join_ndarray = np.concatenate([x_ndarray,y_ndarray])\n",
    "    \n",
    "    # 勾配\n",
    "    gradient = (y_ndarray[1:] - y_ndarray[:-1]) / (x_ndarray[1:] - x_ndarray[:-1])\n",
    "    \n",
    "    return  join_ndarray, gradient\n",
    "\n",
    "# 回答\n",
    "answer = compute_gradient(x_ndarray)\n",
    "join_ndarray = answer[0]\n",
    "gradient = answer[1]\n",
    "print(join_ndarray)\n",
    "\n",
    "# 結合した配列のグラフ\n",
    "plt.title(\"join_ndarray\")\n",
    "plt.xlabel(\"shape\")\n",
    "plt.ylabel(\"y_ndarray\")\n",
    "plt.plot(join_ndarray,color='skyblue', linestyle='solid', linewidth=3, markersize=12)\n",
    "plt.show()\n",
    "\n",
    "# 勾配のグラフ\n",
    "plt.title(\"gradient\")\n",
    "plt.xlabel(\"shape\")\n",
    "plt.ylabel(\"gradient\")\n",
    "plt.plot(gradient,color='orange', linestyle='solid', linewidth=3, markersize=12)\n",
    "plt.show()\n",
    "\n",
    "# 三角関数を求める\n",
    "print(np.sin(join_ndarray))"
   ]
  },
  {
   "cell_type": "markdown",
   "metadata": {},
   "source": [
    "## 【問題6】最小値を求める\n",
    "\n",
    "問題5で扱った関数のyの最小値を求めます。xの範囲も問題5と同様とします。\n",
    "\n",
    "\n",
    "今回は勾配降下法ではなく、ndarrayのminメソッド、argminメソッドを用いてください。\n",
    "\n",
    "minメソッドは最小値を、argminメソッドは最小値のインデックスを取得することができます。\n",
    "\n",
    "\n",
    "また、最小のyをとる前後の勾配を表示してください。"
   ]
  },
  {
   "cell_type": "code",
   "execution_count": 178,
   "metadata": {},
   "outputs": [
    {
     "name": "stdout",
     "output_type": "stream",
     "text": [
      "0.5\n",
      "0\n",
      "-50.0\n",
      "0\n",
      "0.5\n",
      "-49.9\n"
     ]
    }
   ],
   "source": [
    "# 回答\n",
    "\n",
    "# 勾配を求める\n",
    "print(np.min(gradient))\n",
    "print(np.argmin(gradient))\n",
    "\n",
    "# 配列の最小値\n",
    "print(np.min(join_ndarray))\n",
    "print(np.argmin(join_ndarray))\n",
    "\n",
    "\n",
    "# 前後の勾配\n",
    "print(np.min(gradient[+1]))\n",
    "print(np.min(join_ndarray[+1]))"
   ]
  },
  {
   "cell_type": "code",
   "execution_count": null,
   "metadata": {},
   "outputs": [],
   "source": []
  },
  {
   "cell_type": "code",
   "execution_count": null,
   "metadata": {},
   "outputs": [],
   "source": []
  },
  {
   "cell_type": "code",
   "execution_count": null,
   "metadata": {},
   "outputs": [],
   "source": []
  }
 ],
 "metadata": {
  "kernelspec": {
   "display_name": "Python 3",
   "language": "python",
   "name": "python3"
  },
  "language_info": {
   "codemirror_mode": {
    "name": "ipython",
    "version": 3
   },
   "file_extension": ".py",
   "mimetype": "text/x-python",
   "name": "python",
   "nbconvert_exporter": "python",
   "pygments_lexer": "ipython3",
   "version": "3.6.4"
  }
 },
 "nbformat": 4,
 "nbformat_minor": 2
}
